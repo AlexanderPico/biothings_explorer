{
 "cells": [
  {
   "cell_type": "code",
   "execution_count": 1,
   "metadata": {},
   "outputs": [],
   "source": [
    "# import modules from biothings_explorer\n",
    "from biothings_explorer.hint import Hint\n",
    "from biothings_explorer.user_query_dispatcher import FindConnection"
   ]
  },
  {
   "cell_type": "markdown",
   "metadata": {},
   "source": [
    "**Hint** module: Find corresponding bio-entity representation used in BioThings Explorer based on user input (could be any database IDs, symbols, names)\n",
    "\n",
    "**FindConnection** module: Find intermediate bio-entities which connects user specified input and output"
   ]
  },
  {
   "cell_type": "markdown",
   "metadata": {},
   "source": [
    "## Step 1: Find representation of \"CXCR4\" in BTE"
   ]
  },
  {
   "cell_type": "code",
   "execution_count": 2,
   "metadata": {},
   "outputs": [
    {
     "data": {
      "text/plain": [
       "{'entrez': '7852',\n",
       " 'name': 'C-X-C motif chemokine receptor 4',\n",
       " 'symbol': 'CXCR4',\n",
       " 'taxonomy': 9606,\n",
       " 'umls': 'C1332823',\n",
       " 'display': 'entrez(7852) name(C-X-C motif chemokine receptor 4) symbol(CXCR4) taxonomy(9606) umls(C1332823) ',\n",
       " 'type': 'Gene',\n",
       " 'primary': {'identifier': 'entrez', 'cls': 'Gene', 'value': '7852'}}"
      ]
     },
     "execution_count": 2,
     "metadata": {},
     "output_type": "execute_result"
    }
   ],
   "source": [
    "ht = Hint()\n",
    "# find all potential representations of CXCR4\n",
    "cxcr4_hint = ht.query(\"CXCR4\")\n",
    "# select the correct representation of CXCR4\n",
    "cxcr4 = cxcr4_hint['Gene'][0]\n",
    "cxcr4"
   ]
  },
  {
   "cell_type": "markdown",
   "metadata": {},
   "source": [
    "## Step 2: Find drugs that are associated with CXCR4"
   ]
  },
  {
   "cell_type": "code",
   "execution_count": 3,
   "metadata": {},
   "outputs": [
    {
     "name": "stdout",
     "output_type": "stream",
     "text": [
      "Help on function __init__ in module biothings_explorer.user_query_dispatcher:\n",
      "\n",
      "__init__(self, input_obj, output_obj, intermediate_nodes, registry=None)\n",
      "    Find relationships in the Knowledge Graph between an Input Object and an Output Object.\n",
      "    \n",
      "    params\n",
      "    ------\n",
      "    input_obj (required): must be an object returned from Hint corresponding to a specific biomedical entity.\n",
      "                          Examples: \n",
      "            Hint().query(\"Fanconi anemia\")['DiseaseOrPhenotypicFeature'][0]\n",
      "            Hint().query(\"acetaminophen\")['ChemicalSubstance'][0]\n",
      "    \n",
      "    output_obj (required): must EITHER be an object returned from Hint corresponding to a specific biomedical\n",
      "                           entity, OR be a string or list of strings corresponding to Biolink Entity classes.\n",
      "                           Examples:\n",
      "            Hint().query(\"acetaminophen\")['ChemicalSubstance'][0]\n",
      "            'Gene'\n",
      "            ['Gene','ChemicalSubstance']\n",
      "    \n",
      "    intermediate_nodes (required): the semantic type(s) of the intermediate node(s).  Examples:\n",
      "            None                         : no intermediate node, find direct connections only\n",
      "            []                           : no intermediate node, find direct connections only\n",
      "            ['BiologicalEntity']         : one intermediate node of any semantic type\n",
      "            ['Gene']                     : one intermediate node that must be a Gene\n",
      "            [('Gene','Pathway')]         : one intermediate node that must be a Gene or a Pathway\n",
      "            ['Gene','Pathway']           : two intermediate nodes, first must be a Gene, second must be a Pathway.\n",
      "            ['Gene',('Pathway','Gene')]  : two intermediate nodes, first must be a Gene, second must be a Pathway or Gene.\n",
      "                                              **NOTE**: queries with more than one intermediate node are currently not supported\n",
      "\n"
     ]
    }
   ],
   "source": [
    "help(FindConnection.__init__)"
   ]
  },
  {
   "cell_type": "code",
   "execution_count": 4,
   "metadata": {},
   "outputs": [],
   "source": [
    "fc = FindConnection(input_obj=cxcr4, output_obj='ChemicalSubstance', intermediate_nodes=None)"
   ]
  },
  {
   "cell_type": "code",
   "execution_count": 5,
   "metadata": {},
   "outputs": [
    {
     "name": "stdout",
     "output_type": "stream",
     "text": [
      "==========\n",
      "========== QUERY PARAMETER SUMMARY ==========\n",
      "==========\n",
      "\n",
      "BTE will find paths that join 'CXCR4' and 'ChemicalSubstance'. Paths will have 0 intermediate node.\n",
      "\n",
      "\n",
      "\n",
      "========== QUERY #1 -- fetch all ChemicalSubstance entities linked to CXCR4 ==========\n",
      "==========\n",
      "\n",
      "==== Step #1: Query path planning ====\n",
      "\n",
      "Because CXCR4 is of type 'Gene', BTE will query our meta-KG for APIs that can take 'Gene' as input\n",
      "\n",
      "BTE found 3 apis:\n",
      "\n",
      "API 1. mychem.info(3 API calls)\n",
      "API 2. dgidb_gene2chemical(1 API call)\n",
      "API 3. semmedgene(1 API call)\n",
      "\n",
      "\n",
      "==== Step #2: Query path execution ====\n",
      "NOTE: API requests are dispatched in parallel, so the list of APIs below is ordered by query time.\n",
      "\n",
      "API 1.1: http://mychem.info/v1/query (POST \"q=CXCR4&scopes=drugbank.enzymes.gene_name&fields=drugbank.id&species=human&size=100\")\n",
      "API 1.2: http://mychem.info/v1/query (POST \"q=CXCR4&scopes=drugbank.targets.gene_name&fields=drugbank.id&species=human&size=100\")\n",
      "API 1.3: http://mychem.info/v1/query (POST \"q=CXCR4&scopes=drugcentral.bioactivity.uniprot.gene_symbol&fields=chembl.molecule_chembl_id&species=human&size=100\")\n",
      "API 2.1: http://www.dgidb.org/api/v2/interactions.json?genes=CXCR4\n",
      "API 3.1: https://pending.biothings.io/semmedgene/query (POST \"q=C1332823&scopes=umls&fields=affects_reverse.chemical_substance,associated_with.chemical_substance,interacts_with.chemical_substance,associated_with_reverse.chemical_substance,interacts_with_reverse.chemical_substance,affects.chemical_substance&species=human&size=100\")\n",
      "\n",
      "\n",
      "==== Step #3: Output normalization ====\n",
      "\n",
      "API 2.1 dgidb_gene2chemical: 15 hits\n",
      "API 1.1 mychem.info: No hits\n",
      "API 1.2 mychem.info: 5 hits\n",
      "API 1.3 mychem.info: 1 hits\n",
      "API 3.1 semmedgene: 391 hits\n",
      "\n",
      "After id-to-object translation, BTE retrieved 187 unique objects.\n",
      "\n",
      "==========\n",
      "========== Final assembly of results ==========\n",
      "==========\n",
      "\n",
      "\n",
      "In the #1 query, BTE found 187 unique ChemicalSubstance nodes\n"
     ]
    }
   ],
   "source": [
    "fc.connect(verbose=True)"
   ]
  },
  {
   "cell_type": "markdown",
   "metadata": {},
   "source": [
    "## Step 3: Display and Filter results"
   ]
  },
  {
   "cell_type": "code",
   "execution_count": 6,
   "metadata": {},
   "outputs": [],
   "source": [
    "df = fc.display_table_view()"
   ]
  },
  {
   "cell_type": "code",
   "execution_count": 7,
   "metadata": {},
   "outputs": [
    {
     "data": {
      "text/html": [
       "<div>\n",
       "<style scoped>\n",
       "    .dataframe tbody tr th:only-of-type {\n",
       "        vertical-align: middle;\n",
       "    }\n",
       "\n",
       "    .dataframe tbody tr th {\n",
       "        vertical-align: top;\n",
       "    }\n",
       "\n",
       "    .dataframe thead th {\n",
       "        text-align: right;\n",
       "    }\n",
       "</style>\n",
       "<table border=\"1\" class=\"dataframe\">\n",
       "  <thead>\n",
       "    <tr style=\"text-align: right;\">\n",
       "      <th></th>\n",
       "      <th>input</th>\n",
       "      <th>input_type</th>\n",
       "      <th>pred1</th>\n",
       "      <th>pred1_source</th>\n",
       "      <th>pred1_api</th>\n",
       "      <th>pred1_pubmed</th>\n",
       "      <th>output_id</th>\n",
       "      <th>output_name</th>\n",
       "      <th>output_type</th>\n",
       "    </tr>\n",
       "  </thead>\n",
       "  <tbody>\n",
       "    <tr>\n",
       "      <th>0</th>\n",
       "      <td>CXCR4</td>\n",
       "      <td>Gene</td>\n",
       "      <td>bts:molecularlyInteractsWith</td>\n",
       "      <td>semmed</td>\n",
       "      <td>semmedgene</td>\n",
       "      <td></td>\n",
       "      <td>umls:C0056562</td>\n",
       "      <td>None</td>\n",
       "      <td>ChemicalSubstance</td>\n",
       "    </tr>\n",
       "    <tr>\n",
       "      <th>1</th>\n",
       "      <td>CXCR4</td>\n",
       "      <td>Gene</td>\n",
       "      <td>bts:molecularlyInteractsWith</td>\n",
       "      <td>semmed</td>\n",
       "      <td>semmedgene</td>\n",
       "      <td></td>\n",
       "      <td>umls:C0056562</td>\n",
       "      <td>None</td>\n",
       "      <td>ChemicalSubstance</td>\n",
       "    </tr>\n",
       "    <tr>\n",
       "      <th>2</th>\n",
       "      <td>CXCR4</td>\n",
       "      <td>Gene</td>\n",
       "      <td>bts:molecularlyInteractsWith</td>\n",
       "      <td>semmed</td>\n",
       "      <td>semmedgene</td>\n",
       "      <td></td>\n",
       "      <td>umls:C0022108</td>\n",
       "      <td>None</td>\n",
       "      <td>ChemicalSubstance</td>\n",
       "    </tr>\n",
       "    <tr>\n",
       "      <th>3</th>\n",
       "      <td>CXCR4</td>\n",
       "      <td>Gene</td>\n",
       "      <td>bts:molecularlyInteractsWith</td>\n",
       "      <td>semmed</td>\n",
       "      <td>semmedgene</td>\n",
       "      <td></td>\n",
       "      <td>umls:C0022108</td>\n",
       "      <td>None</td>\n",
       "      <td>ChemicalSubstance</td>\n",
       "    </tr>\n",
       "    <tr>\n",
       "      <th>4</th>\n",
       "      <td>CXCR4</td>\n",
       "      <td>Gene</td>\n",
       "      <td>bts:molecularlyInteractsWith</td>\n",
       "      <td>semmed</td>\n",
       "      <td>semmedgene</td>\n",
       "      <td></td>\n",
       "      <td>umls:C0022108</td>\n",
       "      <td>None</td>\n",
       "      <td>ChemicalSubstance</td>\n",
       "    </tr>\n",
       "    <tr>\n",
       "      <th>...</th>\n",
       "      <td>...</td>\n",
       "      <td>...</td>\n",
       "      <td>...</td>\n",
       "      <td>...</td>\n",
       "      <td>...</td>\n",
       "      <td>...</td>\n",
       "      <td>...</td>\n",
       "      <td>...</td>\n",
       "      <td>...</td>\n",
       "    </tr>\n",
       "    <tr>\n",
       "      <th>407</th>\n",
       "      <td>CXCR4</td>\n",
       "      <td>Gene</td>\n",
       "      <td>bts:molecularlyInteractsWith</td>\n",
       "      <td>semmed</td>\n",
       "      <td>semmedgene</td>\n",
       "      <td></td>\n",
       "      <td>umls:C0243071</td>\n",
       "      <td>None</td>\n",
       "      <td>ChemicalSubstance</td>\n",
       "    </tr>\n",
       "    <tr>\n",
       "      <th>408</th>\n",
       "      <td>CXCR4</td>\n",
       "      <td>Gene</td>\n",
       "      <td>bts:molecularlyInteractsWith</td>\n",
       "      <td>semmed</td>\n",
       "      <td>semmedgene</td>\n",
       "      <td></td>\n",
       "      <td>umls:C0013879</td>\n",
       "      <td>None</td>\n",
       "      <td>ChemicalSubstance</td>\n",
       "    </tr>\n",
       "    <tr>\n",
       "      <th>409</th>\n",
       "      <td>CXCR4</td>\n",
       "      <td>Gene</td>\n",
       "      <td>bts:molecularlyInteractsWith</td>\n",
       "      <td>semmed</td>\n",
       "      <td>semmedgene</td>\n",
       "      <td></td>\n",
       "      <td>umls:C0013879</td>\n",
       "      <td>None</td>\n",
       "      <td>ChemicalSubstance</td>\n",
       "    </tr>\n",
       "    <tr>\n",
       "      <th>410</th>\n",
       "      <td>CXCR4</td>\n",
       "      <td>Gene</td>\n",
       "      <td>bts:molecularlyInteractsWith</td>\n",
       "      <td>semmed</td>\n",
       "      <td>semmedgene</td>\n",
       "      <td></td>\n",
       "      <td>umls:C0003320</td>\n",
       "      <td>None</td>\n",
       "      <td>ChemicalSubstance</td>\n",
       "    </tr>\n",
       "    <tr>\n",
       "      <th>411</th>\n",
       "      <td>CXCR4</td>\n",
       "      <td>Gene</td>\n",
       "      <td>bts:molecularlyInteractsWith</td>\n",
       "      <td>semmed</td>\n",
       "      <td>semmedgene</td>\n",
       "      <td></td>\n",
       "      <td>umls:C0003320</td>\n",
       "      <td>None</td>\n",
       "      <td>ChemicalSubstance</td>\n",
       "    </tr>\n",
       "  </tbody>\n",
       "</table>\n",
       "<p>412 rows × 9 columns</p>\n",
       "</div>"
      ],
      "text/plain": [
       "     input input_type                         pred1 pred1_source   pred1_api  \\\n",
       "0    CXCR4       Gene  bts:molecularlyInteractsWith       semmed  semmedgene   \n",
       "1    CXCR4       Gene  bts:molecularlyInteractsWith       semmed  semmedgene   \n",
       "2    CXCR4       Gene  bts:molecularlyInteractsWith       semmed  semmedgene   \n",
       "3    CXCR4       Gene  bts:molecularlyInteractsWith       semmed  semmedgene   \n",
       "4    CXCR4       Gene  bts:molecularlyInteractsWith       semmed  semmedgene   \n",
       "..     ...        ...                           ...          ...         ...   \n",
       "407  CXCR4       Gene  bts:molecularlyInteractsWith       semmed  semmedgene   \n",
       "408  CXCR4       Gene  bts:molecularlyInteractsWith       semmed  semmedgene   \n",
       "409  CXCR4       Gene  bts:molecularlyInteractsWith       semmed  semmedgene   \n",
       "410  CXCR4       Gene  bts:molecularlyInteractsWith       semmed  semmedgene   \n",
       "411  CXCR4       Gene  bts:molecularlyInteractsWith       semmed  semmedgene   \n",
       "\n",
       "    pred1_pubmed      output_id output_name        output_type  \n",
       "0                 umls:C0056562        None  ChemicalSubstance  \n",
       "1                 umls:C0056562        None  ChemicalSubstance  \n",
       "2                 umls:C0022108        None  ChemicalSubstance  \n",
       "3                 umls:C0022108        None  ChemicalSubstance  \n",
       "4                 umls:C0022108        None  ChemicalSubstance  \n",
       "..           ...            ...         ...                ...  \n",
       "407               umls:C0243071        None  ChemicalSubstance  \n",
       "408               umls:C0013879        None  ChemicalSubstance  \n",
       "409               umls:C0013879        None  ChemicalSubstance  \n",
       "410               umls:C0003320        None  ChemicalSubstance  \n",
       "411               umls:C0003320        None  ChemicalSubstance  \n",
       "\n",
       "[412 rows x 9 columns]"
      ]
     },
     "execution_count": 7,
     "metadata": {},
     "output_type": "execute_result"
    }
   ],
   "source": [
    "df"
   ]
  }
 ],
 "metadata": {
  "kernelspec": {
   "display_name": "Python 3",
   "language": "python",
   "name": "python3"
  },
  "language_info": {
   "codemirror_mode": {
    "name": "ipython",
    "version": 3
   },
   "file_extension": ".py",
   "mimetype": "text/x-python",
   "name": "python",
   "nbconvert_exporter": "python",
   "pygments_lexer": "ipython3",
   "version": "3.7.5"
  }
 },
 "nbformat": 4,
 "nbformat_minor": 2
}
