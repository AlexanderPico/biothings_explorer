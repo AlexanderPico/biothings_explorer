{
 "cells": [
  {
   "cell_type": "code",
   "execution_count": 1,
   "metadata": {},
   "outputs": [],
   "source": [
    "from biothings_explorer.registry import Registry"
   ]
  },
  {
   "cell_type": "code",
   "execution_count": 2,
   "metadata": {},
   "outputs": [],
   "source": [
    "reg = Registry()"
   ]
  },
  {
   "cell_type": "code",
   "execution_count": 3,
   "metadata": {},
   "outputs": [],
   "source": [
    "from biothings_explorer.user_query_dispatcher import SingleEdgeQueryDispatcher"
   ]
  },
  {
   "cell_type": "code",
   "execution_count": 4,
   "metadata": {},
   "outputs": [],
   "source": [
    "from biothings_explorer.hint import Hint "
   ]
  },
  {
   "cell_type": "code",
   "execution_count": 5,
   "metadata": {},
   "outputs": [],
   "source": [
    "ht = Hint()"
   ]
  },
  {
   "cell_type": "code",
   "execution_count": 6,
   "metadata": {},
   "outputs": [
    {
     "data": {
      "text/plain": [
       "{'Gene': [{'entrez': '57514',\n",
       "   'name': 'Rho GTPase activating protein 31',\n",
       "   'symbol': 'ARHGAP31',\n",
       "   'taxonomy': 9606,\n",
       "   'umls': 'C1970471',\n",
       "   'display': 'entrez(57514) name(Rho GTPase activating protein 31) symbol(ARHGAP31) taxonomy(9606) umls(C1970471) ',\n",
       "   'type': 'Gene',\n",
       "   'primary': {'identifier': 'entrez', 'cls': 'Gene', 'value': '57514'}},\n",
       "  {'entrez': '12549',\n",
       "   'name': 'Rho GTPase activating protein 31',\n",
       "   'symbol': 'Arhgap31',\n",
       "   'taxonomy': 10090,\n",
       "   'display': 'entrez(12549) name(Rho GTPase activating protein 31) symbol(Arhgap31) taxonomy(10090) ',\n",
       "   'type': 'Gene',\n",
       "   'primary': {'identifier': 'entrez', 'cls': 'Gene', 'value': '12549'}},\n",
       "  {'entrez': '288093',\n",
       "   'name': 'Rho GTPase activating protein 31',\n",
       "   'symbol': 'Arhgap31',\n",
       "   'taxonomy': 10116,\n",
       "   'display': 'entrez(288093) name(Rho GTPase activating protein 31) symbol(Arhgap31) taxonomy(10116) ',\n",
       "   'type': 'Gene',\n",
       "   'primary': {'identifier': 'entrez', 'cls': 'Gene', 'value': '288093'}},\n",
       "  {'entrez': '100071056',\n",
       "   'name': 'Rho GTPase activating protein 31',\n",
       "   'symbol': 'ARHGAP31',\n",
       "   'taxonomy': 9796,\n",
       "   'display': 'entrez(100071056) name(Rho GTPase activating protein 31) symbol(ARHGAP31) taxonomy(9796) ',\n",
       "   'type': 'Gene',\n",
       "   'primary': {'identifier': 'entrez', 'cls': 'Gene', 'value': '100071056'}},\n",
       "  {'entrez': '100553371',\n",
       "   'name': 'Rho GTPase activating protein 31',\n",
       "   'symbol': 'arhgap31',\n",
       "   'taxonomy': 28377,\n",
       "   'display': 'entrez(100553371) name(Rho GTPase activating protein 31) symbol(arhgap31) taxonomy(28377) ',\n",
       "   'type': 'Gene',\n",
       "   'primary': {'identifier': 'entrez', 'cls': 'Gene', 'value': '100553371'}}],\n",
       " 'SequenceVariant': [],\n",
       " 'ChemicalSubstance': [],\n",
       " 'DiseaseOrPhenotypicFeature': [],\n",
       " 'Pathway': [],\n",
       " 'MolecularFunction': [],\n",
       " 'CellularComponent': [],\n",
       " 'BiologicalProcess': [],\n",
       " 'Anatomy': [],\n",
       " 'PhenotypicFeature': []}"
      ]
     },
     "execution_count": 6,
     "metadata": {},
     "output_type": "execute_result"
    }
   ],
   "source": [
    "ht.query(\"ARHGAP31\")"
   ]
  },
  {
   "cell_type": "code",
   "execution_count": 7,
   "metadata": {},
   "outputs": [],
   "source": [
    "input_obj = _6['Gene'][0]"
   ]
  },
  {
   "cell_type": "code",
   "execution_count": 8,
   "metadata": {},
   "outputs": [
    {
     "data": {
      "text/plain": [
       "{'entrez': '57514',\n",
       " 'name': 'Rho GTPase activating protein 31',\n",
       " 'symbol': 'ARHGAP31',\n",
       " 'taxonomy': 9606,\n",
       " 'umls': 'C1970471',\n",
       " 'display': 'entrez(57514) name(Rho GTPase activating protein 31) symbol(ARHGAP31) taxonomy(9606) umls(C1970471) ',\n",
       " 'type': 'Gene',\n",
       " 'primary': {'identifier': 'entrez', 'cls': 'Gene', 'value': '57514'}}"
      ]
     },
     "execution_count": 8,
     "metadata": {},
     "output_type": "execute_result"
    }
   ],
   "source": [
    "input_obj"
   ]
  },
  {
   "cell_type": "code",
   "execution_count": 9,
   "metadata": {},
   "outputs": [
    {
     "ename": "TypeError",
     "evalue": "__init__() got an unexpected keyword argument 'input_obj'",
     "output_type": "error",
     "traceback": [
      "\u001b[0;31m---------------------------------------------------------------------------\u001b[0m",
      "\u001b[0;31mTypeError\u001b[0m                                 Traceback (most recent call last)",
      "\u001b[0;32m<ipython-input-9-df4e5fcdb4df>\u001b[0m in \u001b[0;36m<module>\u001b[0;34m\u001b[0m\n\u001b[0;32m----> 1\u001b[0;31m \u001b[0mseqd\u001b[0m \u001b[0;34m=\u001b[0m \u001b[0mSingleEdgeQueryDispatcher\u001b[0m\u001b[0;34m(\u001b[0m\u001b[0minput_obj\u001b[0m\u001b[0;34m=\u001b[0m\u001b[0minput_obj\u001b[0m\u001b[0;34m,\u001b[0m \u001b[0moutput_cls\u001b[0m\u001b[0;34m=\u001b[0m\u001b[0;34m\"Gene\"\u001b[0m\u001b[0;34m,\u001b[0m \u001b[0mregistry\u001b[0m\u001b[0;34m=\u001b[0m\u001b[0mreg\u001b[0m\u001b[0;34m)\u001b[0m\u001b[0;34m\u001b[0m\u001b[0;34m\u001b[0m\u001b[0m\n\u001b[0m",
      "\u001b[0;31mTypeError\u001b[0m: __init__() got an unexpected keyword argument 'input_obj'"
     ]
    }
   ],
   "source": [
    "seqd = SingleEdgeQueryDispatcher(input_obj=input_obj, output_cls=\"Gene\", registry=reg)"
   ]
  },
  {
   "cell_type": "code",
   "execution_count": null,
   "metadata": {},
   "outputs": [],
   "source": []
  }
 ],
 "metadata": {
  "kernelspec": {
   "display_name": "Python 3",
   "language": "python",
   "name": "python3"
  },
  "language_info": {
   "codemirror_mode": {
    "name": "ipython",
    "version": 3
   },
   "file_extension": ".py",
   "mimetype": "text/x-python",
   "name": "python",
   "nbconvert_exporter": "python",
   "pygments_lexer": "ipython3",
   "version": "3.7.3"
  }
 },
 "nbformat": 4,
 "nbformat_minor": 2
}
